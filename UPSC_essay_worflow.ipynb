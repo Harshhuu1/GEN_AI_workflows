{
 "cells": [
  {
   "cell_type": "code",
   "execution_count": 13,
   "id": "809ffe3c",
   "metadata": {},
   "outputs": [],
   "source": [
    "from langgraph.graph import StateGraph,START,END\n",
    "from langchain_openai import ChatOpenAI\n",
    "from dotenv import load_dotenv\n",
    "from typing import TypedDict,Annotated\n",
    "from pydantic import BaseModel, Field\n",
    "import operator"
   ]
  },
  {
   "cell_type": "code",
   "execution_count": 2,
   "id": "96c7582b",
   "metadata": {},
   "outputs": [
    {
     "data": {
      "text/plain": [
       "True"
      ]
     },
     "execution_count": 2,
     "metadata": {},
     "output_type": "execute_result"
    }
   ],
   "source": [
    "load_dotenv()"
   ]
  },
  {
   "cell_type": "code",
   "execution_count": 4,
   "id": "af43f18d",
   "metadata": {},
   "outputs": [],
   "source": [
    "model=ChatOpenAI(model='gpt-4o-mini')"
   ]
  },
  {
   "cell_type": "code",
   "execution_count": 24,
   "id": "b09ba92b",
   "metadata": {},
   "outputs": [],
   "source": [
    "class eval_schema(BaseModel):\n",
    "    feedback:str=Field(description=\"Detailed feedback for the essay\")\n",
    "    score:int=Field(description='score out of 10', ge=0, le=10)\n",
    "    "
   ]
  },
  {
   "cell_type": "code",
   "execution_count": 25,
   "id": "05d1add2",
   "metadata": {},
   "outputs": [],
   "source": [
    "structured_model=model.with_structured_output(eval_schema)"
   ]
  },
  {
   "cell_type": "code",
   "execution_count": 26,
   "id": "fc5c88dd",
   "metadata": {},
   "outputs": [],
   "source": [
    "essay=\"\"\"Artificial Intelligence (AI) has become one of the most transformative technologies of the 21st century. It is reshaping industries, economies, and societies across the world. India, being one of the fastest-growing economies with a strong talent base in technology, has been playing an important role in the global AI ecosystem. From government initiatives to private sector innovations, India’s contribution to AI is becoming more significant day by day.\n",
    "\n",
    "1. Government Initiatives\n",
    "\n",
    "The Government of India has recognized AI as a key driver for economic growth and social development. NITI Aayog launched the National Strategy for Artificial Intelligence, often called “AI for All”, with the aim of using AI in areas such as healthcare, agriculture, education, smart cities, and infrastructure. The government is also setting up centers of excellence and AI research hubs to encourage innovation and collaboration.\n",
    "\n",
    "2. Research and Innovation\n",
    "\n",
    "India is home to some of the best engineering institutions in the world, such as the IITs, IISc, and IIITs, which are actively conducting research in machine learning, deep learning, natural language processing, and robotics. Startups in cities like Bengaluru, Hyderabad, and Pune are focusing on AI-based solutions ranging from financial technology and healthcare diagnostics to agricultural optimization. This research ecosystem has made India one of the top countries in terms of AI research publications.\n",
    "\n",
    "3. Private Sector and Startups\n",
    "\n",
    "The private sector in India is heavily investing in AI. Major IT companies such as TCS, Infosys, and Wipro are using AI to improve services for clients worldwide. Global tech giants like Google, Microsoft, and Amazon have established AI research and development centers in India, recognizing the country’s pool of skilled engineers and data scientists. Indian startups are also playing a crucial role in areas like speech recognition in regional languages, AI-powered education platforms, and medical imaging solutions.\n",
    "\n",
    "4. AI for Social Good\n",
    "\n",
    "One of India’s unique strengths is its focus on applying AI to solve local problems. For example, AI is being used in agriculture to predict crop diseases and improve yield. In healthcare, AI-based diagnostic tools are helping doctors in rural areas provide better treatment. Educational platforms powered by AI are helping students in remote villages access quality learning material. Thus, AI in India is not just about business but also about inclusive growth.\n",
    "\n",
    "5. Challenges Ahead\n",
    "\n",
    "Despite these achievements, India faces challenges such as limited infrastructure, shortage of high-quality datasets, and the need for more skilled professionals in advanced AI research. Ethical concerns, bias in algorithms, and unemployment due to automation are also areas that require careful planning.\n",
    "\n",
    "Conclusion\n",
    "\n",
    "India’s role in Artificial Intelligence is growing rapidly. With its large population, strong IT sector, and increasing government support, the country has the potential to become a global leader in AI. By focusing on research, innovation, and social applications, India can ensure that AI becomes a tool for inclusive development and economic growth. The coming decade will be crucial in shaping India’s journey as an AI powerhouse.\"\"\""
   ]
  },
  {
   "cell_type": "code",
   "execution_count": null,
   "id": "d4b82b5c",
   "metadata": {},
   "outputs": [],
   "source": []
  },
  {
   "cell_type": "code",
   "execution_count": 33,
   "id": "d32f80ed",
   "metadata": {},
   "outputs": [],
   "source": [
    "class upscstate(TypedDict):\n",
    "    essay:str\n",
    "    language_fbk:str\n",
    "    analysis_fbk:str\n",
    "    clarity_fbk:str\n",
    "    overall_fbk:str\n",
    "    individual_score:Annotated[list[int],operator.add] #use to add without any conflic all the three value of all all things\n",
    "    avg_score:float\n",
    "\n"
   ]
  },
  {
   "cell_type": "code",
   "execution_count": 39,
   "id": "0df8336d",
   "metadata": {},
   "outputs": [],
   "source": [
    "def evaluate_language(state: upscstate) -> upscstate:\n",
    "    # build prompt safely with double quotes\n",
    "    prompt = f\"\"\"Evaluate the language quality of the following essay and provide \n",
    "    feedback, then assign a score out of 10:\n",
    "\n",
    "    {state[\"essay\"]}\n",
    "    \"\"\"\n",
    "    \n",
    "    # invoke model\n",
    "    output = structured_model.invoke(prompt)\n",
    "\n",
    "    # assuming output has attributes 'feedback' and 'score'\n",
    "    return {\n",
    "        \"language_fbk\": output.feedback,\n",
    "        \"individual_score\": [output.score]\n",
    "    }\n"
   ]
  },
  {
   "cell_type": "code",
   "execution_count": 40,
   "id": "58150c33",
   "metadata": {},
   "outputs": [],
   "source": [
    "def evaluate_analysis(state:upscstate)->upscstate:\n",
    "    prompt=f\"Evaluate the depth of analysis  of the following essay and provide the feedback and asssign a socre out of 10 \\n {state['essay']}\"\n",
    "    output=structured_model.invoke(prompt)\n",
    "    return {'analysis_fbk':output.feedback,'individual_score':[output.score]}"
   ]
  },
  {
   "cell_type": "code",
   "execution_count": 41,
   "id": "871470e3",
   "metadata": {},
   "outputs": [],
   "source": [
    "def evaluate_thoughts(state:upscstate)->upscstate:\n",
    "    prompt=f\"Evaluate the clarity of thought of the following essay and provide the feedback and asssign a socre out of 10 \\n {state['essay']}\"\n",
    "    output=structured_model.invoke(prompt)\n",
    "    return {'clarity_fbk':output.feedback,'individual_score':[output.score]}"
   ]
  },
  {
   "cell_type": "code",
   "execution_count": 53,
   "id": "3001dbf1",
   "metadata": {},
   "outputs": [],
   "source": [
    "def final_evaluation(state: upscstate) -> upscstate:\n",
    "    # summary \n",
    "    prompt = f\"\"\"Based on the following feedback, create a summarised feedback:\n",
    "    Language feedback: {state['language_fbk']}\n",
    "    Depth of analysis: {state['analysis_fbk']}\n",
    "    Clarity of thoughts: {state['clarity_fbk']}\n",
    "    \"\"\"\n",
    "    overall_fbk = model.invoke(prompt).content\n",
    "\n",
    "    # average calculation (fix applied here)\n",
    "    avg_score = sum(state['individual_score']) / len(state['individual_score'])\n",
    "\n",
    "\n",
    "    return {\n",
    "        \"overall_fbk\": overall_fbk,\n",
    "        \"avg_score\": avg_score\n",
    "    }\n"
   ]
  },
  {
   "cell_type": "code",
   "execution_count": 54,
   "id": "fe7913d4",
   "metadata": {},
   "outputs": [],
   "source": [
    "graph=StateGraph(upscstate)\n",
    "graph.add_node(\"evaluate_language\", evaluate_language)\n",
    "graph.add_node(\"evaluate_analysis\", evaluate_analysis)\n",
    "graph.add_node(\"evaluate_thoughts\", evaluate_thoughts)\n",
    "graph.add_node(\"final_evaluation\", final_evaluation)\n",
    "graph.add_edge(START,\"evaluate_language\")\n",
    "graph.add_edge(START,\"evaluate_analysis\")\n",
    "graph.add_edge(START,\"evaluate_thoughts\")\n",
    "\n",
    "graph.add_edge(\"evaluate_language\",\"final_evaluation\")\n",
    "graph.add_edge(\"evaluate_analysis\",\"final_evaluation\")\n",
    "graph.add_edge(\"evaluate_thoughts\",\"final_evaluation\")\n",
    "graph.add_edge('final_evaluation',END)\n",
    "workflow=graph.compile()\n"
   ]
  },
  {
   "cell_type": "code",
   "execution_count": 57,
   "id": "8573a025",
   "metadata": {},
   "outputs": [
    {
     "data": {
      "text/plain": [
       "{'essay': 'The role of India in AI is very big but also not clear because many people say India is doing good but some say not. In India there are many engineers and also students who are learning computers but still AI is not going fast like America or China. Government sometimes make plan but then plan is not doing good. Some companies are doing AI but mostly it is copy of other country work. The research papers are not high quality and many time it is only for show.\\n\\nAlso the education system is not giving proper training for AI, many students only learn theory but not practice. This is problem because when they go to job they not know what to do. India say it want to become global leader in AI but infrastructure is weak and internet is not working proper in many places.\\n\\nIn conclusion, India has many talent but AI growth is slow and confusing and need to become better. Otherwise India will stay behind.',\n",
       " 'language_fbk': 'The essay addresses the topic of India\\'s role in Artificial Intelligence (AI) with some relevant points, but it suffers from several issues in terms of clarity, coherence, and academic language. \\n\\n1. **Introduction and Thesis Statement**: The opening statement is vague. It would be improved by precisely defining what \\'big\\' and \\'not clear\\' mean in relation to India’s role in AI. A stronger thesis would outline specific reasons for this ambiguity.\\n\\n2. **Clarity and Coherence**: Many sentences lack grammatical correctness and clarity. For example, phrases like \\'making plan\\' should be corrected to \\'making plans\\' or \\'developing plans.\\' Additionally, there are sentence fragments and run-on sentences that disrupt the flow of ideas.\\n\\n3. **Structure**: The essay does not have distinct paragraphs for different points, which hinders readability. Each paragraph should focus on a single idea or argument, providing better structure to the essay. \\n\\n4. **Evidence and Support**: The claims made lack specific evidence or examples to support them. Instead of generalizing about companies copying work or the education system failing, it would strengthen the essay to provide examples or statistics.\\n\\n5. **Language and Vocabulary**: The use of informal language (e.g., \"not good,\" \"many time\") detracts from the professionalism of the writing. Academic essays should utilize a more formal tone and precise vocabulary. \\n\\n6. **Conclusion**: The conclusion summarizes the points but doesn\\'t push for a discussion on what measures could be taken to improve the situation in AI for India. Providing a call to action or suggesting potential solutions would make the conclusion more impactful.\\n\\nOverall, the essay indicates a basic understanding of the topic, but significant improvements in language, structure, and argumentation are necessary for a higher quality piece of writing.',\n",
       " 'analysis_fbk': \"The essay provides a general overview of India's current position in the field of artificial intelligence (AI), touching upon some important points such as the availability of engineers, the effectiveness of government plans, and challenges in the education system. However, the analysis lacks depth and critical engagement with the topic. Specific examples or data to substantiate claims are missing, which undermines the credibility of the arguments. Additionally, the flow of ideas is somewhat disjointed, and the use of informal language detracts from the overall clarity of the message. To improve, the essay could benefit from a clearer structure, more detailed explanations, and a better examination of both the challenges and potential solutions in India's AI landscape. Overall, while the essay highlights significant issues, it does not provide a thorough or nuanced analysis of the role of India in AI.\",\n",
       " 'clarity_fbk': \"The essay presents some relevant points regarding the challenges and opportunities faced by India in the AI sector. However, the clarity of thought is hindered by vague statements and a lack of structured argumentation. For instance, terms like 'not clear' and 'many people say India is doing good' are unspecific and do not provide a clear perspective. Additionally, certain phrases, such as 'government sometimes make plan but then plan is not doing good', indicate grammatical errors and could be rephrased to enhance clarity. The essay would benefit from more concrete examples and a structured format that divides ideas into clear paragraphs. Overall, while the essay addresses significant issues, the lack of coherence and depth in analysis weakens its impact. A more organized approach with detailed explanations would improve clarity considerably.\",\n",
       " 'overall_fbk': \"**Summarized Feedback:**\\n\\nThe essay on India's role in Artificial Intelligence (AI) presents some relevant points but requires significant improvements in clarity, coherence, and academic language. \\n\\n1. **Introduction and Thesis Statement**: The introduction is vague and needs a more precise definition of key terms. A clearer thesis outlining specific reasons for ambiguity would strengthen the essay.\\n\\n2. **Clarity and Coherence**: The writing contains grammatical issues and unclear sentences, disrupting the flow of ideas. Corrections are needed for phrases and sentence structures.\\n\\n3. **Structure**: The lack of distinct paragraphs for different points hinders readability. Each paragraph should focus on a single idea for better organization.\\n\\n4. **Evidence and Support**: Claims made in the essay lack specific examples and evidence, weakening their credibility. The inclusion of data and examples would bolster the arguments.\\n\\n5. **Language and Vocabulary**: Informal language detracts from professionalism. The essay should adopt a more formal tone and use precise vocabulary.\\n\\n6. **Conclusion**: The conclusion summarizes points but fails to suggest measures for improvement in India’s AI sector. A call to action or potential solutions would enhance its impact.\\n\\nOverall, while the essay demonstrates a basic understanding of the topic, it requires a clearer structure, deeper analysis, and improved language to elevate its quality.\",\n",
       " 'individual_score': [3, 4, 4],\n",
       " 'avg_score': 3.6666666666666665}"
      ]
     },
     "execution_count": 57,
     "metadata": {},
     "output_type": "execute_result"
    }
   ],
   "source": [
    "initial_state={\n",
    "    'essay':essay2\n",
    "\n",
    "}\n",
    "workflow.invoke(initial_state)"
   ]
  },
  {
   "cell_type": "code",
   "execution_count": 58,
   "id": "44f317db",
   "metadata": {},
   "outputs": [],
   "source": [
    "essay2=\"\"\"The role of India in AI is very big but also not clear because many people say India is doing good but some say not. In India there are many engineers and also students who are learning computers but still AI is not going fast like America or China. Government sometimes make plan but then plan is not doing good. Some companies are doing AI but mostly it is copy of other country work. The research papers are not high quality and many time it is only for show.\n",
    "\n",
    "Also the education system is not giving proper training for AI, many students only learn theory but not practice. This is problem because when they go to job they not know what to do. India say it want to become global leader in AI but infrastructure is weak and internet is not working proper in many places.\n",
    "\n",
    "In conclusion, India has many talent but AI growth is slow and confusing and need to become better. Otherwise India will stay behind.\"\"\""
   ]
  },
  {
   "cell_type": "code",
   "execution_count": null,
   "id": "f4bcc02c",
   "metadata": {},
   "outputs": [],
   "source": []
  }
 ],
 "metadata": {
  "kernelspec": {
   "display_name": "myenv",
   "language": "python",
   "name": "python3"
  },
  "language_info": {
   "codemirror_mode": {
    "name": "ipython",
    "version": 3
   },
   "file_extension": ".py",
   "mimetype": "text/x-python",
   "name": "python",
   "nbconvert_exporter": "python",
   "pygments_lexer": "ipython3",
   "version": "3.12.6"
  }
 },
 "nbformat": 4,
 "nbformat_minor": 5
}
