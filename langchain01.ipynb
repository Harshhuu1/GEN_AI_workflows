{
 "cells": [
  {
   "cell_type": "code",
   "execution_count": 29,
   "id": "60dc1193",
   "metadata": {},
   "outputs": [],
   "source": [
    "from langgraph.graph import StateGraph,START,END\n",
    "from typing import TypedDict"
   ]
  },
  {
   "cell_type": "code",
   "execution_count": 30,
   "id": "7431881f",
   "metadata": {},
   "outputs": [],
   "source": [
    "#define state\n",
    "class BMIState(TypedDict):\n",
    "    weight_kg:float\n",
    "    height_m:float\n",
    "    bmi:float\n",
    "    category:str"
   ]
  },
  {
   "cell_type": "code",
   "execution_count": 31,
   "id": "363481b0",
   "metadata": {},
   "outputs": [],
   "source": [
    "def calculate_bmi(state:BMIState)->BMIState:\n",
    "    weight=state['weight_kg']\n",
    "    height=state['height_m']\n",
    "    bmi=weight/(height**2)\n",
    "    state['bmi']=round(bmi,2)\n",
    "    return state\n"
   ]
  },
  {
   "cell_type": "code",
   "execution_count": 32,
   "id": "456cb552",
   "metadata": {},
   "outputs": [],
   "source": [
    "def label_bmi(state:BMIState)->BMIState:\n",
    "    bmi=state['bmi']\n",
    "    if bmi<18.5:\n",
    "        state['category']=\"underweight\"\n",
    "    if bmi>18.5 and bmi<25:\n",
    "        state['category']='Fit'\n",
    "    else:\n",
    "        state['category']='overweight'\n",
    "    return state\n",
    "    "
   ]
  },
  {
   "cell_type": "code",
   "execution_count": 33,
   "id": "b2d7d5b4",
   "metadata": {},
   "outputs": [],
   "source": [
    "#define oyur graph\n",
    "graph=StateGraph(BMIState)\n",
    "graph.add_node('calculate_bmi',calculate_bmi)\n",
    "graph.add_node('label_bmi',label_bmi)\n",
    "graph.add_edge(START,'calculate_bmi')\n",
    "graph.add_edge('calculate_bmi','label_bmi')\n",
    "graph.add_edge('label_bmi',END)\n",
    "workflow=graph.compile()\n"
   ]
  },
  {
   "cell_type": "code",
   "execution_count": 34,
   "id": "c34a9ba8",
   "metadata": {},
   "outputs": [
    {
     "data": {
      "text/plain": [
       "{'weight_kg': 80, 'height_m': 1.73, 'bmi': 26.73, 'category': 'overweight'}"
      ]
     },
     "execution_count": 34,
     "metadata": {},
     "output_type": "execute_result"
    }
   ],
   "source": [
    "workflow.invoke({'weight_kg':80,'height_m':1.73})"
   ]
  },
  {
   "cell_type": "code",
   "execution_count": null,
   "id": "dfa20e79",
   "metadata": {},
   "outputs": [],
   "source": []
  },
  {
   "cell_type": "code",
   "execution_count": null,
   "id": "0299edd1",
   "metadata": {},
   "outputs": [],
   "source": []
  }
 ],
 "metadata": {
  "kernelspec": {
   "display_name": "myenv",
   "language": "python",
   "name": "python3"
  },
  "language_info": {
   "codemirror_mode": {
    "name": "ipython",
    "version": 3
   },
   "file_extension": ".py",
   "mimetype": "text/x-python",
   "name": "python",
   "nbconvert_exporter": "python",
   "pygments_lexer": "ipython3",
   "version": "3.12.6"
  }
 },
 "nbformat": 4,
 "nbformat_minor": 5
}
