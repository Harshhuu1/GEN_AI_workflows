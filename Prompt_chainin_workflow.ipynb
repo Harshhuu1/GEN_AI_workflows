{
 "cells": [
  {
   "cell_type": "code",
   "execution_count": 11,
   "id": "9d55fcc1",
   "metadata": {},
   "outputs": [],
   "source": [
    "from langgraph.graph import StateGraph, START,END\n",
    "from langchain_openai import ChatOpenAI\n",
    "from typing import TypedDict\n",
    "from dotenv import load_dotenv"
   ]
  },
  {
   "cell_type": "code",
   "execution_count": 12,
   "id": "39509299",
   "metadata": {},
   "outputs": [
    {
     "data": {
      "text/plain": [
       "True"
      ]
     },
     "execution_count": 12,
     "metadata": {},
     "output_type": "execute_result"
    }
   ],
   "source": [
    "load_dotenv()"
   ]
  },
  {
   "cell_type": "code",
   "execution_count": 13,
   "id": "3ca690ad",
   "metadata": {},
   "outputs": [],
   "source": [
    "model=ChatOpenAI()"
   ]
  },
  {
   "cell_type": "code",
   "execution_count": 14,
   "id": "f997cf27",
   "metadata": {},
   "outputs": [],
   "source": [
    "class blogstate(TypedDict):\n",
    "    topic:str\n",
    "    outline:str\n",
    "    content:str\n"
   ]
  },
  {
   "cell_type": "code",
   "execution_count": 15,
   "id": "eeaaa858",
   "metadata": {},
   "outputs": [],
   "source": [
    "def create_outline(state:blogstate)->blogstate:\n",
    "    #fetch tilte\n",
    "    title=state['topic']\n",
    "\n",
    "    #call llm to gen outlline\n",
    "    prompt=f\"Generate an outline on this{title}\"\n",
    "    outline=model.invoke(prompt)\n",
    "    #update state\n",
    "    state['outline']=outline\n",
    "    return state"
   ]
  },
  {
   "cell_type": "code",
   "execution_count": 16,
   "id": "4ba3c9f0",
   "metadata": {},
   "outputs": [],
   "source": [
    "def createblog(state:blogstate)->blogstate:\n",
    "    title=state['topic']\n",
    "    outline=state['outline']\n",
    "    prompt=f\"Generate a blog in 50 words on this {outline}\"\n",
    "    content=model.invoke(prompt).content\n",
    "    state['content']=content\n",
    "    return state\n"
   ]
  },
  {
   "cell_type": "code",
   "execution_count": 18,
   "id": "d29b53d5",
   "metadata": {},
   "outputs": [],
   "source": [
    "graph=StateGraph(blogstate)\n",
    "graph.add_node('create_outline',create_outline)\n",
    "graph.add_node('createblog',createblog)\n",
    "graph.add_edge(START,'create_outline')\n",
    "graph.add_edge('create_outline','createblog')\n",
    "graph.add_edge('createblog',END)\n",
    "workflow=graph.compile()\n",
    "\n"
   ]
  },
  {
   "cell_type": "code",
   "execution_count": 21,
   "id": "e7aa3513",
   "metadata": {},
   "outputs": [
    {
     "name": "stdout",
     "output_type": "stream",
     "text": [
      "In India, poverty remains a pressing issue with deep-rooted causes like historical, economic, social, and political factors. Its effects are far-reaching, impacting health, education, income equality, and social stability. Despite government and NGO efforts to combat poverty, challenges like corruption and infrastructure gaps persist. Strengthening social safety nets, investing in education, and empowering marginalized communities are vital steps towards addressing poverty in India. Let's join hands and take action to uplift those in need.\n"
     ]
    }
   ],
   "source": [
    "initial_state={'topic':'poverty condition of india'}\n",
    "final_state=workflow.invoke(initial_state)\n",
    "print(final_state['content'])"
   ]
  },
  {
   "cell_type": "code",
   "execution_count": null,
   "id": "2995ecb5",
   "metadata": {},
   "outputs": [],
   "source": []
  }
 ],
 "metadata": {
  "kernelspec": {
   "display_name": "myenv",
   "language": "python",
   "name": "python3"
  },
  "language_info": {
   "codemirror_mode": {
    "name": "ipython",
    "version": 3
   },
   "file_extension": ".py",
   "mimetype": "text/x-python",
   "name": "python",
   "nbconvert_exporter": "python",
   "pygments_lexer": "ipython3",
   "version": "3.12.6"
  }
 },
 "nbformat": 4,
 "nbformat_minor": 5
}
