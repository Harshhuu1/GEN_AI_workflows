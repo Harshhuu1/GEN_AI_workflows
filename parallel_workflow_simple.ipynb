{
 "cells": [
  {
   "cell_type": "code",
   "execution_count": 1,
   "id": "07356532",
   "metadata": {},
   "outputs": [],
   "source": [
    "from langgraph.graph import StateGraph, START,END\n",
    "from typing import TypedDict"
   ]
  },
  {
   "cell_type": "code",
   "execution_count": null,
   "id": "c3307d4a",
   "metadata": {},
   "outputs": [],
   "source": [
    "class batsmanState(TypedDict):\n",
    "    runs:int\n",
    "    ball:int\n",
    "    fours:int \n",
    "    sixes:int\n",
    "\n",
    "    sr:float\n",
    "    bbp:float\n",
    "    boundary_percent:float\n",
    "    summary:str"
   ]
  },
  {
   "cell_type": "code",
   "execution_count": 54,
   "id": "dae5866f",
   "metadata": {},
   "outputs": [],
   "source": [
    "def cal_sr(state:batsmanState)->batsmanState:\n",
    "    sr=(state['runs']/state['ball'])*100\n",
    " \n",
    "    return {'sr':sr}"
   ]
  },
  {
   "cell_type": "code",
   "execution_count": null,
   "id": "b5bae782",
   "metadata": {},
   "outputs": [],
   "source": [
    "def calbpb(state:batsmanState)->batsmanState:\n",
    "    bbp=state['ball']/state['fours']+state['sixes']\n",
    "    \n",
    "    return {'bbp':bbp}"
   ]
  },
  {
   "cell_type": "code",
   "execution_count": 47,
   "id": "4770abc4",
   "metadata": {},
   "outputs": [],
   "source": [
    "def cal_boundp(state:batsmanState)->batsmanState:\n",
    "    boundary_percent=(((state['fours']*4)+(state['sixes']*6))/state['runs'])*100\n",
    "    \n",
    "    return {'boundary_percent':boundary_percent}"
   ]
  },
  {
   "cell_type": "code",
   "execution_count": 48,
   "id": "3e050949",
   "metadata": {},
   "outputs": [],
   "source": [
    "def summary(state:batsmanState)->batsmanState:\n",
    "    summary=f\"\"\"\n",
    "Strike Rate-{state['sr']}\\n\n",
    "Balls per boundary-{state['bbp']} \\n \n",
    "Boundary Percent-{state['boundary_percent']}\\n\n",
    "\"\"\" \n",
    "    state['summary']=summary\n",
    "    return {'summary':summary}"
   ]
  },
  {
   "cell_type": "code",
   "execution_count": 49,
   "id": "35c9ca96",
   "metadata": {},
   "outputs": [
    {
     "data": {
      "image/png": "[encoded data removed]",
      "text/plain": [
       "<langgraph.graph.state.CompiledStateGraph object at 0x00000276798767E0>"
      ]
     },
     "execution_count": 49,
     "metadata": {},
     "output_type": "execute_result"
    }
   ],
   "source": [
    "graph=StateGraph(batsmanState)\n",
    "graph.add_node('cal_sr',cal_sr)\n",
    "graph.add_node('cal_bpb',calbpb)\n",
    "graph.add_node('cal_boundp',cal_boundp)\n",
    "graph.add_node('summary',summary)\n",
    "# add edges\n",
    "graph.add_edge(START,'cal_sr')\n",
    "graph.add_edge(START,'cal_boundp')\n",
    "graph.add_edge(START,'cal_bpb')\n",
    "graph.add_edge('cal_sr','summary')\n",
    "graph.add_edge('cal_boundp','summary')\n",
    "graph.add_edge('cal_bpb','summary')\n",
    "graph.add_edge('summary',END)\n",
    "graph.compile()"
   ]
  },
  {
   "cell_type": "code",
   "execution_count": 50,
   "id": "07a7b0ad",
   "metadata": {},
   "outputs": [],
   "source": [
    "workflow=graph.compile()"
   ]
  },
  {
   "cell_type": "code",
   "execution_count": 55,
   "id": "7cadadbe",
   "metadata": {},
   "outputs": [
    {
     "data": {
      "text/plain": [
       "{'runs': 100,\n",
       " 'ball': 50,\n",
       " 'fours': 6,\n",
       " 'sixes': 4,\n",
       " 'sr': 0.02,\n",
       " 'bbp': 12.333333333333334,\n",
       " 'boundary_percent': 48.0}"
      ]
     },
     "execution_count": 55,
     "metadata": {},
     "output_type": "execute_result"
    }
   ],
   "source": [
    "initial_state={\n",
    "    'runs':100,\n",
    "    'ball':50,\n",
    "    'fours':6,\n",
    "    'sixes':4\n",
    "}\n",
    "workflow.invoke(initial_state)"
   ]
  },
  {
   "cell_type": "code",
   "execution_count": null,
   "id": "eb52ec3a",
   "metadata": {},
   "outputs": [],
   "source": []
  },
  {
   "cell_type": "code",
   "execution_count": null,
   "id": "d185e455",
   "metadata": {},
   "outputs": [],
   "source": []
  }
 ],
 "metadata": {
  "kernelspec": {
   "display_name": "myenv",
   "language": "python",
   "name": "python3"
  },
  "language_info": {
   "codemirror_mode": {
    "name": "ipython",
    "version": 3
   },
   "file_extension": ".py",
   "mimetype": "text/x-python",
   "name": "python",
   "nbconvert_exporter": "python",
   "pygments_lexer": "ipython3",
   "version": "3.12.6"
  }
 },
 "nbformat": 4,
 "nbformat_minor": 5
}
